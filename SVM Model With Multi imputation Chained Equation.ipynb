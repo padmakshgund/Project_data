{
 "cells": [
  {
   "cell_type": "code",
   "execution_count": 45,
   "id": "61c3011b",
   "metadata": {},
   "outputs": [],
   "source": [
    "import pandas as pd\n",
    "import numpy as np\n",
    "import matplotlib.pyplot as plt\n",
    "import seaborn as sns\n",
    "from sklearn.svm import SVC,SVR,LinearSVC,LinearSVR\n",
    "from sklearn.model_selection import train_test_split,RandomizedSearchCV,GridSearchCV,TimeSeriesSplit\n",
    "from sklearn.metrics import accuracy_score, confusion_matrix,mean_absolute_percentage_error,mean_absolute_error\n",
    "import warnings\n",
    "warnings.filterwarnings(\"ignore\")\n",
    "from sklearn.experimental import enable_iterative_imputer\n",
    "from sklearn.impute import IterativeImputer\n",
    "from sklearn.linear_model import LinearRegression\n",
    "from sklearn.preprocessing import PolynomialFeatures"
   ]
  },
  {
   "cell_type": "code",
   "execution_count": 28,
   "id": "829a3ca3",
   "metadata": {},
   "outputs": [
    {
     "data": {
      "text/html": [
       "<div>\n",
       "<style scoped>\n",
       "    .dataframe tbody tr th:only-of-type {\n",
       "        vertical-align: middle;\n",
       "    }\n",
       "\n",
       "    .dataframe tbody tr th {\n",
       "        vertical-align: top;\n",
       "    }\n",
       "\n",
       "    .dataframe thead th {\n",
       "        text-align: right;\n",
       "    }\n",
       "</style>\n",
       "<table border=\"1\" class=\"dataframe\">\n",
       "  <thead>\n",
       "    <tr style=\"text-align: right;\">\n",
       "      <th></th>\n",
       "      <th>ID</th>\n",
       "      <th>ClumpThickness</th>\n",
       "      <th>Cell Size</th>\n",
       "      <th>Cell Shape</th>\n",
       "      <th>Marginal Adhesion</th>\n",
       "      <th>Single Epithelial Cell Size</th>\n",
       "      <th>Bare Nuclei</th>\n",
       "      <th>Normal Nucleoli</th>\n",
       "      <th>Bland Chromatin</th>\n",
       "      <th>Mitoses</th>\n",
       "      <th>Class</th>\n",
       "    </tr>\n",
       "  </thead>\n",
       "  <tbody>\n",
       "    <tr>\n",
       "      <th>0</th>\n",
       "      <td>1000025</td>\n",
       "      <td>5</td>\n",
       "      <td>1</td>\n",
       "      <td>1</td>\n",
       "      <td>1</td>\n",
       "      <td>2</td>\n",
       "      <td>1</td>\n",
       "      <td>3</td>\n",
       "      <td>1</td>\n",
       "      <td>1</td>\n",
       "      <td>2</td>\n",
       "    </tr>\n",
       "    <tr>\n",
       "      <th>1</th>\n",
       "      <td>1002945</td>\n",
       "      <td>5</td>\n",
       "      <td>4</td>\n",
       "      <td>4</td>\n",
       "      <td>5</td>\n",
       "      <td>7</td>\n",
       "      <td>10</td>\n",
       "      <td>3</td>\n",
       "      <td>2</td>\n",
       "      <td>1</td>\n",
       "      <td>2</td>\n",
       "    </tr>\n",
       "    <tr>\n",
       "      <th>2</th>\n",
       "      <td>1015425</td>\n",
       "      <td>3</td>\n",
       "      <td>1</td>\n",
       "      <td>1</td>\n",
       "      <td>1</td>\n",
       "      <td>2</td>\n",
       "      <td>2</td>\n",
       "      <td>3</td>\n",
       "      <td>1</td>\n",
       "      <td>1</td>\n",
       "      <td>2</td>\n",
       "    </tr>\n",
       "    <tr>\n",
       "      <th>3</th>\n",
       "      <td>1016277</td>\n",
       "      <td>6</td>\n",
       "      <td>8</td>\n",
       "      <td>8</td>\n",
       "      <td>1</td>\n",
       "      <td>3</td>\n",
       "      <td>4</td>\n",
       "      <td>3</td>\n",
       "      <td>7</td>\n",
       "      <td>1</td>\n",
       "      <td>2</td>\n",
       "    </tr>\n",
       "    <tr>\n",
       "      <th>4</th>\n",
       "      <td>1017023</td>\n",
       "      <td>4</td>\n",
       "      <td>1</td>\n",
       "      <td>1</td>\n",
       "      <td>3</td>\n",
       "      <td>2</td>\n",
       "      <td>1</td>\n",
       "      <td>3</td>\n",
       "      <td>1</td>\n",
       "      <td>1</td>\n",
       "      <td>2</td>\n",
       "    </tr>\n",
       "  </tbody>\n",
       "</table>\n",
       "</div>"
      ],
      "text/plain": [
       "        ID  ClumpThickness  Cell Size  Cell Shape  Marginal Adhesion  \\\n",
       "0  1000025               5          1           1                  1   \n",
       "1  1002945               5          4           4                  5   \n",
       "2  1015425               3          1           1                  1   \n",
       "3  1016277               6          8           8                  1   \n",
       "4  1017023               4          1           1                  3   \n",
       "\n",
       "   Single Epithelial Cell Size Bare Nuclei  Normal Nucleoli  Bland Chromatin  \\\n",
       "0                            2           1                3                1   \n",
       "1                            7          10                3                2   \n",
       "2                            2           2                3                1   \n",
       "3                            3           4                3                7   \n",
       "4                            2           1                3                1   \n",
       "\n",
       "   Mitoses  Class  \n",
       "0        1      2  \n",
       "1        1      2  \n",
       "2        1      2  \n",
       "3        1      2  \n",
       "4        1      2  "
      ]
     },
     "execution_count": 28,
     "metadata": {},
     "output_type": "execute_result"
    }
   ],
   "source": [
    "df = pd.read_csv('bc2.csv')\n",
    "df.head()\n"
   ]
  },
  {
   "cell_type": "code",
   "execution_count": 29,
   "id": "f6313168",
   "metadata": {},
   "outputs": [
    {
     "data": {
      "text/plain": [
       "ID                             0\n",
       "ClumpThickness                 0\n",
       "Cell Size                      0\n",
       "Cell Shape                     0\n",
       "Marginal Adhesion              0\n",
       "Single Epithelial Cell Size    0\n",
       "Bare Nuclei                    0\n",
       "Normal Nucleoli                0\n",
       "Bland Chromatin                0\n",
       "Mitoses                        0\n",
       "Class                          0\n",
       "dtype: int64"
      ]
     },
     "execution_count": 29,
     "metadata": {},
     "output_type": "execute_result"
    }
   ],
   "source": [
    "df.isnull().sum()"
   ]
  },
  {
   "cell_type": "code",
   "execution_count": 30,
   "id": "29100d9c",
   "metadata": {},
   "outputs": [],
   "source": [
    "df.drop(\"ID\",axis = 1,inplace = True)   # Removing unrelated column"
   ]
  },
  {
   "cell_type": "code",
   "execution_count": 31,
   "id": "356f282e",
   "metadata": {},
   "outputs": [
    {
     "data": {
      "text/plain": [
       "23     ?\n",
       "40     ?\n",
       "139    ?\n",
       "145    ?\n",
       "158    ?\n",
       "164    ?\n",
       "235    ?\n",
       "249    ?\n",
       "275    ?\n",
       "292    ?\n",
       "294    ?\n",
       "297    ?\n",
       "315    ?\n",
       "321    ?\n",
       "411    ?\n",
       "617    ?\n",
       "Name: Bare Nuclei, dtype: object"
      ]
     },
     "execution_count": 31,
     "metadata": {},
     "output_type": "execute_result"
    }
   ],
   "source": [
    "col = df.columns\n",
    "p = df[\"Bare Nuclei\"][df[\"Bare Nuclei\"] =='?']        #  Saving unknow value for further check replaced or not\n",
    "p"
   ]
  },
  {
   "cell_type": "code",
   "execution_count": 32,
   "id": "ca2d2a02",
   "metadata": {},
   "outputs": [],
   "source": [
    "df[\"Bare Nuclei\"][df[\"Bare Nuclei\"] =='?'] = np.nan   # Replacing ? Value to null value"
   ]
  },
  {
   "cell_type": "code",
   "execution_count": 33,
   "id": "2476f1cb",
   "metadata": {},
   "outputs": [],
   "source": [
    "impute = IterativeImputer(SVR(),max_iter=10)        # Iterative method for null value filling\n"
   ]
  },
  {
   "cell_type": "code",
   "execution_count": 34,
   "id": "127fd37e",
   "metadata": {},
   "outputs": [],
   "source": [
    "df = pd.DataFrame(impute.fit_transform(df))      # fitting imputer for our data\n",
    "df.columns = col  "
   ]
  },
  {
   "cell_type": "code",
   "execution_count": 35,
   "id": "77a34069",
   "metadata": {},
   "outputs": [
    {
     "data": {
      "text/html": [
       "<div>\n",
       "<style scoped>\n",
       "    .dataframe tbody tr th:only-of-type {\n",
       "        vertical-align: middle;\n",
       "    }\n",
       "\n",
       "    .dataframe tbody tr th {\n",
       "        vertical-align: top;\n",
       "    }\n",
       "\n",
       "    .dataframe thead th {\n",
       "        text-align: right;\n",
       "    }\n",
       "</style>\n",
       "<table border=\"1\" class=\"dataframe\">\n",
       "  <thead>\n",
       "    <tr style=\"text-align: right;\">\n",
       "      <th></th>\n",
       "      <th>ClumpThickness</th>\n",
       "      <th>Cell Size</th>\n",
       "      <th>Cell Shape</th>\n",
       "      <th>Marginal Adhesion</th>\n",
       "      <th>Single Epithelial Cell Size</th>\n",
       "      <th>Bare Nuclei</th>\n",
       "      <th>Normal Nucleoli</th>\n",
       "      <th>Bland Chromatin</th>\n",
       "      <th>Mitoses</th>\n",
       "      <th>Class</th>\n",
       "    </tr>\n",
       "  </thead>\n",
       "  <tbody>\n",
       "    <tr>\n",
       "      <th>23</th>\n",
       "      <td>8.0</td>\n",
       "      <td>4.0</td>\n",
       "      <td>5.0</td>\n",
       "      <td>1.0</td>\n",
       "      <td>2.0</td>\n",
       "      <td>7.392639</td>\n",
       "      <td>7.0</td>\n",
       "      <td>3.0</td>\n",
       "      <td>1.0</td>\n",
       "      <td>4.0</td>\n",
       "    </tr>\n",
       "    <tr>\n",
       "      <th>40</th>\n",
       "      <td>6.0</td>\n",
       "      <td>6.0</td>\n",
       "      <td>6.0</td>\n",
       "      <td>9.0</td>\n",
       "      <td>6.0</td>\n",
       "      <td>9.398159</td>\n",
       "      <td>7.0</td>\n",
       "      <td>8.0</td>\n",
       "      <td>1.0</td>\n",
       "      <td>2.0</td>\n",
       "    </tr>\n",
       "    <tr>\n",
       "      <th>139</th>\n",
       "      <td>1.0</td>\n",
       "      <td>1.0</td>\n",
       "      <td>1.0</td>\n",
       "      <td>1.0</td>\n",
       "      <td>1.0</td>\n",
       "      <td>1.042239</td>\n",
       "      <td>2.0</td>\n",
       "      <td>1.0</td>\n",
       "      <td>1.0</td>\n",
       "      <td>2.0</td>\n",
       "    </tr>\n",
       "    <tr>\n",
       "      <th>145</th>\n",
       "      <td>1.0</td>\n",
       "      <td>1.0</td>\n",
       "      <td>3.0</td>\n",
       "      <td>1.0</td>\n",
       "      <td>2.0</td>\n",
       "      <td>1.071572</td>\n",
       "      <td>2.0</td>\n",
       "      <td>1.0</td>\n",
       "      <td>1.0</td>\n",
       "      <td>2.0</td>\n",
       "    </tr>\n",
       "    <tr>\n",
       "      <th>158</th>\n",
       "      <td>1.0</td>\n",
       "      <td>1.0</td>\n",
       "      <td>2.0</td>\n",
       "      <td>1.0</td>\n",
       "      <td>3.0</td>\n",
       "      <td>1.144917</td>\n",
       "      <td>1.0</td>\n",
       "      <td>1.0</td>\n",
       "      <td>1.0</td>\n",
       "      <td>2.0</td>\n",
       "    </tr>\n",
       "    <tr>\n",
       "      <th>164</th>\n",
       "      <td>5.0</td>\n",
       "      <td>1.0</td>\n",
       "      <td>1.0</td>\n",
       "      <td>1.0</td>\n",
       "      <td>2.0</td>\n",
       "      <td>1.100102</td>\n",
       "      <td>3.0</td>\n",
       "      <td>1.0</td>\n",
       "      <td>1.0</td>\n",
       "      <td>2.0</td>\n",
       "    </tr>\n",
       "    <tr>\n",
       "      <th>235</th>\n",
       "      <td>3.0</td>\n",
       "      <td>1.0</td>\n",
       "      <td>4.0</td>\n",
       "      <td>1.0</td>\n",
       "      <td>2.0</td>\n",
       "      <td>1.432843</td>\n",
       "      <td>3.0</td>\n",
       "      <td>1.0</td>\n",
       "      <td>1.0</td>\n",
       "      <td>2.0</td>\n",
       "    </tr>\n",
       "    <tr>\n",
       "      <th>249</th>\n",
       "      <td>3.0</td>\n",
       "      <td>1.0</td>\n",
       "      <td>1.0</td>\n",
       "      <td>1.0</td>\n",
       "      <td>2.0</td>\n",
       "      <td>0.994742</td>\n",
       "      <td>3.0</td>\n",
       "      <td>1.0</td>\n",
       "      <td>1.0</td>\n",
       "      <td>2.0</td>\n",
       "    </tr>\n",
       "    <tr>\n",
       "      <th>275</th>\n",
       "      <td>3.0</td>\n",
       "      <td>1.0</td>\n",
       "      <td>3.0</td>\n",
       "      <td>1.0</td>\n",
       "      <td>2.0</td>\n",
       "      <td>0.934399</td>\n",
       "      <td>2.0</td>\n",
       "      <td>1.0</td>\n",
       "      <td>1.0</td>\n",
       "      <td>2.0</td>\n",
       "    </tr>\n",
       "    <tr>\n",
       "      <th>292</th>\n",
       "      <td>8.0</td>\n",
       "      <td>8.0</td>\n",
       "      <td>8.0</td>\n",
       "      <td>1.0</td>\n",
       "      <td>2.0</td>\n",
       "      <td>6.372142</td>\n",
       "      <td>6.0</td>\n",
       "      <td>10.0</td>\n",
       "      <td>1.0</td>\n",
       "      <td>4.0</td>\n",
       "    </tr>\n",
       "    <tr>\n",
       "      <th>294</th>\n",
       "      <td>1.0</td>\n",
       "      <td>1.0</td>\n",
       "      <td>1.0</td>\n",
       "      <td>1.0</td>\n",
       "      <td>2.0</td>\n",
       "      <td>1.023912</td>\n",
       "      <td>2.0</td>\n",
       "      <td>1.0</td>\n",
       "      <td>1.0</td>\n",
       "      <td>2.0</td>\n",
       "    </tr>\n",
       "    <tr>\n",
       "      <th>297</th>\n",
       "      <td>5.0</td>\n",
       "      <td>4.0</td>\n",
       "      <td>3.0</td>\n",
       "      <td>1.0</td>\n",
       "      <td>2.0</td>\n",
       "      <td>2.108238</td>\n",
       "      <td>2.0</td>\n",
       "      <td>3.0</td>\n",
       "      <td>1.0</td>\n",
       "      <td>2.0</td>\n",
       "    </tr>\n",
       "    <tr>\n",
       "      <th>315</th>\n",
       "      <td>4.0</td>\n",
       "      <td>6.0</td>\n",
       "      <td>5.0</td>\n",
       "      <td>6.0</td>\n",
       "      <td>7.0</td>\n",
       "      <td>7.280556</td>\n",
       "      <td>4.0</td>\n",
       "      <td>9.0</td>\n",
       "      <td>1.0</td>\n",
       "      <td>2.0</td>\n",
       "    </tr>\n",
       "    <tr>\n",
       "      <th>321</th>\n",
       "      <td>3.0</td>\n",
       "      <td>1.0</td>\n",
       "      <td>1.0</td>\n",
       "      <td>1.0</td>\n",
       "      <td>2.0</td>\n",
       "      <td>0.994742</td>\n",
       "      <td>3.0</td>\n",
       "      <td>1.0</td>\n",
       "      <td>1.0</td>\n",
       "      <td>2.0</td>\n",
       "    </tr>\n",
       "    <tr>\n",
       "      <th>411</th>\n",
       "      <td>1.0</td>\n",
       "      <td>1.0</td>\n",
       "      <td>1.0</td>\n",
       "      <td>1.0</td>\n",
       "      <td>1.0</td>\n",
       "      <td>1.042239</td>\n",
       "      <td>2.0</td>\n",
       "      <td>1.0</td>\n",
       "      <td>1.0</td>\n",
       "      <td>2.0</td>\n",
       "    </tr>\n",
       "    <tr>\n",
       "      <th>617</th>\n",
       "      <td>1.0</td>\n",
       "      <td>1.0</td>\n",
       "      <td>1.0</td>\n",
       "      <td>1.0</td>\n",
       "      <td>1.0</td>\n",
       "      <td>1.134469</td>\n",
       "      <td>1.0</td>\n",
       "      <td>1.0</td>\n",
       "      <td>1.0</td>\n",
       "      <td>2.0</td>\n",
       "    </tr>\n",
       "  </tbody>\n",
       "</table>\n",
       "</div>"
      ],
      "text/plain": [
       "     ClumpThickness  Cell Size  Cell Shape  Marginal Adhesion  \\\n",
       "23              8.0        4.0         5.0                1.0   \n",
       "40              6.0        6.0         6.0                9.0   \n",
       "139             1.0        1.0         1.0                1.0   \n",
       "145             1.0        1.0         3.0                1.0   \n",
       "158             1.0        1.0         2.0                1.0   \n",
       "164             5.0        1.0         1.0                1.0   \n",
       "235             3.0        1.0         4.0                1.0   \n",
       "249             3.0        1.0         1.0                1.0   \n",
       "275             3.0        1.0         3.0                1.0   \n",
       "292             8.0        8.0         8.0                1.0   \n",
       "294             1.0        1.0         1.0                1.0   \n",
       "297             5.0        4.0         3.0                1.0   \n",
       "315             4.0        6.0         5.0                6.0   \n",
       "321             3.0        1.0         1.0                1.0   \n",
       "411             1.0        1.0         1.0                1.0   \n",
       "617             1.0        1.0         1.0                1.0   \n",
       "\n",
       "     Single Epithelial Cell Size  Bare Nuclei  Normal Nucleoli  \\\n",
       "23                           2.0     7.392639              7.0   \n",
       "40                           6.0     9.398159              7.0   \n",
       "139                          1.0     1.042239              2.0   \n",
       "145                          2.0     1.071572              2.0   \n",
       "158                          3.0     1.144917              1.0   \n",
       "164                          2.0     1.100102              3.0   \n",
       "235                          2.0     1.432843              3.0   \n",
       "249                          2.0     0.994742              3.0   \n",
       "275                          2.0     0.934399              2.0   \n",
       "292                          2.0     6.372142              6.0   \n",
       "294                          2.0     1.023912              2.0   \n",
       "297                          2.0     2.108238              2.0   \n",
       "315                          7.0     7.280556              4.0   \n",
       "321                          2.0     0.994742              3.0   \n",
       "411                          1.0     1.042239              2.0   \n",
       "617                          1.0     1.134469              1.0   \n",
       "\n",
       "     Bland Chromatin  Mitoses  Class  \n",
       "23               3.0      1.0    4.0  \n",
       "40               8.0      1.0    2.0  \n",
       "139              1.0      1.0    2.0  \n",
       "145              1.0      1.0    2.0  \n",
       "158              1.0      1.0    2.0  \n",
       "164              1.0      1.0    2.0  \n",
       "235              1.0      1.0    2.0  \n",
       "249              1.0      1.0    2.0  \n",
       "275              1.0      1.0    2.0  \n",
       "292             10.0      1.0    4.0  \n",
       "294              1.0      1.0    2.0  \n",
       "297              3.0      1.0    2.0  \n",
       "315              9.0      1.0    2.0  \n",
       "321              1.0      1.0    2.0  \n",
       "411              1.0      1.0    2.0  \n",
       "617              1.0      1.0    2.0  "
      ]
     },
     "execution_count": 35,
     "metadata": {},
     "output_type": "execute_result"
    }
   ],
   "source": [
    "df.iloc[p.index]     # checing replace values "
   ]
  },
  {
   "cell_type": "code",
   "execution_count": 36,
   "id": "6f6bb7ec",
   "metadata": {},
   "outputs": [
    {
     "name": "stdout",
     "output_type": "stream",
     "text": [
      "[ 5.  3.  6.  4.  8.  1.  2.  7. 10.  9.] ClumpThickness\n",
      "[ 1.  4.  8. 10.  2.  3.  7.  5.  6.  9.] Cell Size\n",
      "[ 1.  4.  8. 10.  2.  3.  5.  6.  7.  9.] Cell Shape\n",
      "[ 1.  5.  3.  8. 10.  4.  6.  2.  9.  7.] Marginal Adhesion\n",
      "[ 2.  7.  3.  1.  6.  4.  5.  8. 10.  9.] Single Epithelial Cell Size\n",
      "[ 1.         10.          2.          4.          3.          9.\n",
      "  7.          7.39263871  5.          9.39815948  8.          6.\n",
      "  1.04223929  1.07157173  1.14491662  1.10010164  1.43284282  0.99474155\n",
      "  0.93439886  6.37214215  1.02391206  2.10823784  7.28055621  1.13446902] Bare Nuclei\n",
      "[ 3.  9.  1.  2.  4.  5.  7.  8.  6. 10.] Normal Nucleoli\n",
      "[ 1.  2.  7.  4.  5.  3. 10.  6.  9.  8.] Bland Chromatin\n",
      "[ 1.  5.  4.  2.  3.  7. 10.  8.  6.] Mitoses\n",
      "[2. 4.] Class\n"
     ]
    }
   ],
   "source": [
    "for i in df.columns:\n",
    "    print(df[i].unique(),i)    # Finding Unique value of Each columns"
   ]
  },
  {
   "cell_type": "code",
   "execution_count": 37,
   "id": "2dc9ff3d",
   "metadata": {},
   "outputs": [],
   "source": [
    "df[\"Bare Nuclei\"][df[\"Bare Nuclei\"]==\"?\"]= np.nan"
   ]
  },
  {
   "cell_type": "code",
   "execution_count": 38,
   "id": "81cfd037",
   "metadata": {},
   "outputs": [
    {
     "data": {
      "text/plain": [
       "0       1\n",
       "1      10\n",
       "2       2\n",
       "3       4\n",
       "4       1\n",
       "       ..\n",
       "694     2\n",
       "695     1\n",
       "696     3\n",
       "697     4\n",
       "698     5\n",
       "Name: Bare Nuclei, Length: 699, dtype: int64"
      ]
     },
     "execution_count": 38,
     "metadata": {},
     "output_type": "execute_result"
    }
   ],
   "source": [
    "df.apply(lambda x:x.fillna(x.median(),inplace = True) )\n",
    "df[\"Bare Nuclei\"].astype(\"int64\")"
   ]
  },
  {
   "cell_type": "code",
   "execution_count": 39,
   "id": "91aa6b7e",
   "metadata": {},
   "outputs": [],
   "source": [
    "# df[\"Bare Nuclei\"][df[\"Bare Nuclei\"]==\"?\"].index"
   ]
  },
  {
   "cell_type": "code",
   "execution_count": 40,
   "id": "477b9db4",
   "metadata": {},
   "outputs": [],
   "source": [
    "# df['Bare Nuclei']=df['Bare Nuclei'].fillna(method=\"ffill\")"
   ]
  },
  {
   "cell_type": "code",
   "execution_count": 41,
   "id": "b92feeca",
   "metadata": {},
   "outputs": [],
   "source": [
    "# df['Bare Nuclei']=df['Bare Nuclei'].astype(\"int64\")"
   ]
  },
  {
   "cell_type": "code",
   "execution_count": 42,
   "id": "5691a19b",
   "metadata": {},
   "outputs": [],
   "source": [
    "# plt.subplot(5,6,1)\n",
    "# sns.pairplot(df,diag_kind=\"kde\",corner = True);"
   ]
  },
  {
   "cell_type": "code",
   "execution_count": 17,
   "id": "3e8cfb7e",
   "metadata": {},
   "outputs": [],
   "source": [
    "X = df.drop(\"Class\",axis = 1)\n",
    "y =df[\"Class\"]"
   ]
  },
  {
   "cell_type": "code",
   "execution_count": 18,
   "id": "5692f88f",
   "metadata": {},
   "outputs": [],
   "source": [
    "X_train, X_test, y_train, y_test = train_test_split(X, y, test_size=0.5, random_state=1)"
   ]
  },
  {
   "cell_type": "code",
   "execution_count": 19,
   "id": "88886729",
   "metadata": {},
   "outputs": [],
   "source": [
    "poly = PolynomialFeatures(degree=2,interaction_only=True)"
   ]
  },
  {
   "cell_type": "code",
   "execution_count": 20,
   "id": "d92fed48",
   "metadata": {},
   "outputs": [],
   "source": [
    "X_train=pd.DataFrame(poly.fit_transform(X_train))"
   ]
  },
  {
   "cell_type": "code",
   "execution_count": 21,
   "id": "6e7e59f1",
   "metadata": {},
   "outputs": [],
   "source": [
    "svc1 = SVC()\n",
    "\n",
    "parameter = {\"kernel\":['linear', 'rbf', 'sigmoid'],\"gamma\" : ['scale', 'auto']}"
   ]
  },
  {
   "cell_type": "code",
   "execution_count": 46,
   "id": "062d236c",
   "metadata": {},
   "outputs": [
    {
     "name": "stdout",
     "output_type": "stream",
     "text": [
      "CV = 0, model score for CV 0.9512479474548441, best parameter {'kernel': 'rbf', 'gamma': 'scale'}\n",
      "CV = 1, model score for CV 0.9512967875036841, best parameter {'kernel': 'rbf', 'gamma': 'scale'}\n",
      "CV = 2, model score for CV 0.951312695924765, best parameter {'kernel': 'rbf', 'gamma': 'scale'}\n",
      "CV = 3, model score for CV 0.9598343685300208, best parameter {'kernel': 'rbf', 'gamma': 'scale'}\n",
      "CV = 8, model score for CV 0.9599159663865546, best parameter {'kernel': 'rbf', 'gamma': 'scale'}\n",
      "CV = 13, model score for CV 0.960144927536232, best parameter {'kernel': 'rbf', 'gamma': 'scale'}\n"
     ]
    }
   ],
   "source": [
    "# Doing Hypertuning and finding best parameter and best Cross validation value.\n",
    "cv_score = 0\n",
    "for i  in range(20):\n",
    "    CV = RandomizedSearchCV(svc,parameter,random_state=1,cv=i+2)\n",
    "    CV.fit(X_train,y_train)\n",
    "    if cv_score<CV.best_score_:\n",
    "        cv_score = CV.best_score_\n",
    "        print(f\"CV = {i}, model score for CV {CV.best_score_}, best parameter {CV.best_params_}\")"
   ]
  },
  {
   "cell_type": "code",
   "execution_count": 47,
   "id": "2f1df515",
   "metadata": {},
   "outputs": [
    {
     "name": "stdout",
     "output_type": "stream",
     "text": [
      "CV = 0, model score for CV 0.9341050903119869, best parameter {'penalty': 'l2', 'multi_class': 'ovr', 'loss': 'squared_hinge'}\n"
     ]
    }
   ],
   "source": [
    "# Doing Hypertuning and finding best parameter and best Cross validation value.\n",
    "svc2 = LinearSVC()\n",
    "para2 = {'loss' : ['hinge', 'squared_hinge'],'penalty' : ['l1', 'l2'],'multi_class' :['ovr', 'crammer_singer']}\n",
    "cv_score = 0\n",
    "for i  in range(20):\n",
    "    CV = RandomizedSearchCV(svc2,para2,random_state=1,cv=i+2)\n",
    "    CV.fit(X_train,y_train)\n",
    "    if cv_score<CV.best_score_:\n",
    "        cv_score = CV.best_score_\n",
    "        print(f\"CV = {i}, model score for CV {CV.best_score_}, best parameter {CV.best_params_}\")"
   ]
  },
  {
   "cell_type": "code",
   "execution_count": null,
   "id": "53a7e474",
   "metadata": {},
   "outputs": [],
   "source": [
    "CV = RandomizedSearchCV(svc,parameter,random_state=1,cv=46)\n",
    "CV.fit(X_train,y_train)"
   ]
  },
  {
   "cell_type": "code",
   "execution_count": 43,
   "id": "aaf65019",
   "metadata": {},
   "outputs": [
    {
     "name": "stdout",
     "output_type": "stream",
     "text": [
      "0.959733893557423\n",
      "{'kernel': 'rbf', 'gamma': 'scale'}\n"
     ]
    }
   ],
   "source": [
    "print(CV.best_score_)\n",
    "print(CV.best_params_)"
   ]
  },
  {
   "cell_type": "markdown",
   "id": "192239ec",
   "metadata": {},
   "source": [
    "Ckecking other model accuracy\n"
   ]
  },
  {
   "cell_type": "code",
   "execution_count": 78,
   "id": "4294851e",
   "metadata": {},
   "outputs": [],
   "source": [
    "from sklearn.linear_model import LinearRegression\n",
    "LR = LinearRegression()"
   ]
  },
  {
   "cell_type": "code",
   "execution_count": 84,
   "id": "c0099e39",
   "metadata": {},
   "outputs": [
    {
     "data": {
      "text/plain": [
       "0.8321267186438173"
      ]
     },
     "execution_count": 84,
     "metadata": {},
     "output_type": "execute_result"
    }
   ],
   "source": [
    "LR.fit(X_train,y_train)\n",
    "LR.score(X_train,y_train)"
   ]
  },
  {
   "cell_type": "code",
   "execution_count": 85,
   "id": "28af24f8",
   "metadata": {},
   "outputs": [
    {
     "name": "stdout",
     "output_type": "stream",
     "text": [
      "CV = 0, model score for CV 0.9541215106732348, best parameter {'gamma': 'scale', 'kernel': 'rbf'}\n",
      "CV = 1, model score for CV 0.9541703507220749, best parameter {'gamma': 'scale', 'kernel': 'rbf'}\n",
      "CV = 2, model score for CV 0.9541862591431558, best parameter {'gamma': 'scale', 'kernel': 'rbf'}\n",
      "CV = 3, model score for CV 0.9626915113871636, best parameter {'gamma': 'scale', 'kernel': 'rbf'}\n",
      "CV = 10, model score for CV 0.9627394636015324, best parameter {'gamma': 'scale', 'kernel': 'rbf'}\n",
      "CV = 11, model score for CV 0.9627438088976551, best parameter {'gamma': 'scale', 'kernel': 'rbf'}\n",
      "CV = 13, model score for CV 0.9630434782608697, best parameter {'gamma': 'scale', 'kernel': 'rbf'}\n"
     ]
    }
   ],
   "source": [
    "cv_score = 0\n",
    "for i  in range(20):\n",
    "    CV = GridSearchCV(svc,parameter,cv=i+2)\n",
    "    CV.fit(X_train,y_train)\n",
    "    if cv_score<CV.best_score_:\n",
    "        cv_score = CV.best_score_\n",
    "        print(f\"CV = {i}, model score for CV {CV.best_score_}, best parameter {CV.best_params_}\")"
   ]
  },
  {
   "cell_type": "code",
   "execution_count": null,
   "id": "91250d5b",
   "metadata": {},
   "outputs": [],
   "source": []
  },
  {
   "cell_type": "code",
   "execution_count": 86,
   "id": "a2c127e6",
   "metadata": {},
   "outputs": [
    {
     "name": "stdout",
     "output_type": "stream",
     "text": [
      "0.9656160458452722\n"
     ]
    },
    {
     "data": {
      "text/plain": [
       "0.9828571428571429"
      ]
     },
     "execution_count": 86,
     "metadata": {},
     "output_type": "execute_result"
    }
   ],
   "source": [
    "sv = SVC(kernel = \"linear\",gamma = \"scale\",random_state = 1)\n",
    "sv.fit(X_train,y_train)\n",
    "print(sv.score(X_train,y_train))\n",
    "sv.score(X_test,y_test)"
   ]
  },
  {
   "cell_type": "code",
   "execution_count": null,
   "id": "f75437e1",
   "metadata": {},
   "outputs": [],
   "source": []
  },
  {
   "cell_type": "markdown",
   "id": "ef65e154",
   "metadata": {},
   "source": []
  },
  {
   "cell_type": "markdown",
   "id": "e3fb7ce2",
   "metadata": {},
   "source": [
    "# New project"
   ]
  },
  {
   "cell_type": "code",
   "execution_count": 19,
   "id": "ec856ad3",
   "metadata": {},
   "outputs": [],
   "source": [
    "data = pd.read_csv('Advertising.csv',index_col=0)"
   ]
  },
  {
   "cell_type": "code",
   "execution_count": 20,
   "id": "2e228d34",
   "metadata": {},
   "outputs": [
    {
     "data": {
      "text/html": [
       "<div>\n",
       "<style scoped>\n",
       "    .dataframe tbody tr th:only-of-type {\n",
       "        vertical-align: middle;\n",
       "    }\n",
       "\n",
       "    .dataframe tbody tr th {\n",
       "        vertical-align: top;\n",
       "    }\n",
       "\n",
       "    .dataframe thead th {\n",
       "        text-align: right;\n",
       "    }\n",
       "</style>\n",
       "<table border=\"1\" class=\"dataframe\">\n",
       "  <thead>\n",
       "    <tr style=\"text-align: right;\">\n",
       "      <th></th>\n",
       "      <th>TV</th>\n",
       "      <th>Radio</th>\n",
       "      <th>Newspaper</th>\n",
       "      <th>Sales</th>\n",
       "    </tr>\n",
       "  </thead>\n",
       "  <tbody>\n",
       "    <tr>\n",
       "      <th>1</th>\n",
       "      <td>230.1</td>\n",
       "      <td>37.8</td>\n",
       "      <td>69.2</td>\n",
       "      <td>22.1</td>\n",
       "    </tr>\n",
       "    <tr>\n",
       "      <th>2</th>\n",
       "      <td>44.5</td>\n",
       "      <td>39.3</td>\n",
       "      <td>45.1</td>\n",
       "      <td>10.4</td>\n",
       "    </tr>\n",
       "    <tr>\n",
       "      <th>3</th>\n",
       "      <td>17.2</td>\n",
       "      <td>45.9</td>\n",
       "      <td>69.3</td>\n",
       "      <td>9.3</td>\n",
       "    </tr>\n",
       "    <tr>\n",
       "      <th>4</th>\n",
       "      <td>151.5</td>\n",
       "      <td>41.3</td>\n",
       "      <td>58.5</td>\n",
       "      <td>18.5</td>\n",
       "    </tr>\n",
       "    <tr>\n",
       "      <th>5</th>\n",
       "      <td>180.8</td>\n",
       "      <td>10.8</td>\n",
       "      <td>58.4</td>\n",
       "      <td>12.9</td>\n",
       "    </tr>\n",
       "  </tbody>\n",
       "</table>\n",
       "</div>"
      ],
      "text/plain": [
       "      TV  Radio  Newspaper  Sales\n",
       "1  230.1   37.8       69.2   22.1\n",
       "2   44.5   39.3       45.1   10.4\n",
       "3   17.2   45.9       69.3    9.3\n",
       "4  151.5   41.3       58.5   18.5\n",
       "5  180.8   10.8       58.4   12.9"
      ]
     },
     "execution_count": 20,
     "metadata": {},
     "output_type": "execute_result"
    }
   ],
   "source": [
    "data.head()"
   ]
  },
  {
   "cell_type": "code",
   "execution_count": 21,
   "id": "13d2fb95",
   "metadata": {},
   "outputs": [
    {
     "data": {
      "text/plain": [
       "<AxesSubplot:xlabel='TV', ylabel='Sales'>"
      ]
     },
     "execution_count": 21,
     "metadata": {},
     "output_type": "execute_result"
    },
    {
     "data": {
      "image/png": "[encoded data removed]",
      "text/plain": [
       "<Figure size 640x480 with 1 Axes>"
      ]
     },
     "metadata": {},
     "output_type": "display_data"
    }
   ],
   "source": [
    "sns.regplot(data.TV,data.Sales,order=1,scatter_kws = {\"color\":\"r\"})"
   ]
  },
  {
   "cell_type": "code",
   "execution_count": 22,
   "id": "e5551a8a",
   "metadata": {},
   "outputs": [
    {
     "data": {
      "text/plain": [
       "<seaborn.axisgrid.PairGrid at 0x2598caa04f0>"
      ]
     },
     "execution_count": 22,
     "metadata": {},
     "output_type": "execute_result"
    },
    {
     "data": {
      "image/png": "[encoded data removed]",
      "text/plain": [
       "<Figure size 1000x1000 with 14 Axes>"
      ]
     },
     "metadata": {},
     "output_type": "display_data"
    }
   ],
   "source": [
    "sns.pairplot(data,diag_kind=\"kde\",corner=True)"
   ]
  },
  {
   "cell_type": "code",
   "execution_count": 23,
   "id": "f0b7269b",
   "metadata": {},
   "outputs": [],
   "source": [
    "X = data.drop(\"Sales\",axis = 1)\n",
    "y = data[\"Sales\"]"
   ]
  },
  {
   "cell_type": "code",
   "execution_count": 24,
   "id": "398a7c25",
   "metadata": {},
   "outputs": [
    {
     "data": {
      "text/html": [
       "<div>\n",
       "<style scoped>\n",
       "    .dataframe tbody tr th:only-of-type {\n",
       "        vertical-align: middle;\n",
       "    }\n",
       "\n",
       "    .dataframe tbody tr th {\n",
       "        vertical-align: top;\n",
       "    }\n",
       "\n",
       "    .dataframe thead th {\n",
       "        text-align: right;\n",
       "    }\n",
       "</style>\n",
       "<table border=\"1\" class=\"dataframe\">\n",
       "  <thead>\n",
       "    <tr style=\"text-align: right;\">\n",
       "      <th></th>\n",
       "      <th>TV</th>\n",
       "      <th>Radio</th>\n",
       "      <th>Newspaper</th>\n",
       "    </tr>\n",
       "  </thead>\n",
       "  <tbody>\n",
       "    <tr>\n",
       "      <th>43</th>\n",
       "      <td>293.6</td>\n",
       "      <td>27.7</td>\n",
       "      <td>1.8</td>\n",
       "    </tr>\n",
       "    <tr>\n",
       "      <th>190</th>\n",
       "      <td>18.7</td>\n",
       "      <td>12.1</td>\n",
       "      <td>23.4</td>\n",
       "    </tr>\n",
       "    <tr>\n",
       "      <th>91</th>\n",
       "      <td>134.3</td>\n",
       "      <td>4.9</td>\n",
       "      <td>9.3</td>\n",
       "    </tr>\n",
       "    <tr>\n",
       "      <th>137</th>\n",
       "      <td>25.6</td>\n",
       "      <td>39.0</td>\n",
       "      <td>9.3</td>\n",
       "    </tr>\n",
       "    <tr>\n",
       "      <th>52</th>\n",
       "      <td>100.4</td>\n",
       "      <td>9.6</td>\n",
       "      <td>3.6</td>\n",
       "    </tr>\n",
       "  </tbody>\n",
       "</table>\n",
       "</div>"
      ],
      "text/plain": [
       "        TV  Radio  Newspaper\n",
       "43   293.6   27.7        1.8\n",
       "190   18.7   12.1       23.4\n",
       "91   134.3    4.9        9.3\n",
       "137   25.6   39.0        9.3\n",
       "52   100.4    9.6        3.6"
      ]
     },
     "execution_count": 24,
     "metadata": {},
     "output_type": "execute_result"
    }
   ],
   "source": [
    "X_train, X_test, y_train, y_test = train_test_split(X, y, test_size=0.33, random_state=42)\n",
    "X_train.head()"
   ]
  },
  {
   "cell_type": "code",
   "execution_count": 25,
   "id": "6049222c",
   "metadata": {},
   "outputs": [],
   "source": [
    "from sklearn.svm import SVC,SVR"
   ]
  },
  {
   "cell_type": "code",
   "execution_count": 26,
   "id": "f3b29b98",
   "metadata": {},
   "outputs": [
    {
     "data": {
      "text/plain": [
       "SVR(kernel='linear')"
      ]
     },
     "execution_count": 26,
     "metadata": {},
     "output_type": "execute_result"
    }
   ],
   "source": [
    "Sv = SVR(kernel=\"linear\")\n",
    "Sv.fit(X_train,y_train)"
   ]
  },
  {
   "cell_type": "code",
   "execution_count": 27,
   "id": "159a6d29",
   "metadata": {},
   "outputs": [
    {
     "data": {
      "text/plain": [
       "0.9020019742901862"
      ]
     },
     "execution_count": 27,
     "metadata": {},
     "output_type": "execute_result"
    }
   ],
   "source": [
    "Sv.score(X_train,y_train)"
   ]
  },
  {
   "cell_type": "code",
   "execution_count": 28,
   "id": "b1024016",
   "metadata": {},
   "outputs": [
    {
     "data": {
      "text/plain": [
       "0.8322319454919381"
      ]
     },
     "execution_count": 28,
     "metadata": {},
     "output_type": "execute_result"
    }
   ],
   "source": [
    "Sv.score(X_test,y_test)"
   ]
  },
  {
   "cell_type": "code",
   "execution_count": 37,
   "id": "ccdf9055",
   "metadata": {},
   "outputs": [
    {
     "name": "stdout",
     "output_type": "stream",
     "text": [
      "For best cv= , best score is 0.8958600352695749, for that best para is {'kernel': 'linear', 'gamma': 'scale'}\n"
     ]
    }
   ],
   "source": [
    "Sv = SVR()\n",
    "para = {\"kernel\": ['linear', 'poly'],\"gamma\":[\"scale\"]}\n",
    "cv = RandomizedSearchCV(Sv,para,random_state=1,cv=2)\n",
    "cv.fit(X_train,y_train)\n",
    "print(f\"For best cv= , best score is {cv.best_score_}, for that best para is {cv.best_params_}\")"
   ]
  },
  {
   "cell_type": "code",
   "execution_count": null,
   "id": "a7108eec",
   "metadata": {},
   "outputs": [],
   "source": []
  },
  {
   "cell_type": "code",
   "execution_count": null,
   "id": "c904f8d4",
   "metadata": {},
   "outputs": [],
   "source": []
  }
 ],
 "metadata": {
  "kernelspec": {
   "display_name": "Python 3 (ipykernel)",
   "language": "python",
   "name": "python3"
  },
  "language_info": {
   "codemirror_mode": {
    "name": "ipython",
    "version": 3
   },
   "file_extension": ".py",
   "mimetype": "text/x-python",
   "name": "python",
   "nbconvert_exporter": "python",
   "pygments_lexer": "ipython3",
   "version": "3.9.13"
  }
 },
 "nbformat": 4,
 "nbformat_minor": 5
}
